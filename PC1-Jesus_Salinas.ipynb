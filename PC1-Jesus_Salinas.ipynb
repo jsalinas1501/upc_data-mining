{
  "nbformat": 4,
  "nbformat_minor": 0,
  "metadata": {
    "colab": {
      "provenance": []
    },
    "kernelspec": {
      "name": "python3",
      "display_name": "Python 3"
    },
    "language_info": {
      "name": "python"
    }
  },
  "cells": [
    {
      "cell_type": "markdown",
      "source": [
        "# Práctica Calificada 1\n",
        "\n",
        "Bienvenidos a la primera práctica del mejor curso del mundo con el mejor profe del mundo.\n",
        "\n",
        "Ahora, quiero que imaginen que son analistas de datos y que están asesorando a una pareja recién casada a comprar una casa. Para eso, como aprendieron en su curso de **Data Mining**, van a hacer un análisis estadístico bastante robusto. Además, la idea es que, como analistas de datos, les den recomendaciones a la nueva pareja en función a los resultados de sus análisis. Recuerden que la pareja no sabe nada de estadística ni de *machine learning*, solamente les interesa comprar una casa.\n",
        "\n",
        "Para realizar correctamente su tarea harán uso (claramente) de data histórica, A continuación, les presento el diccionario de variables del dataset.\n",
        "\n",
        "| Característica | Descripción                                          |\n",
        "|----------------|------------------------------------------------------|\n",
        "| SalePrice      | El precio de venta de la propiedad en dólares. Esta es la variable objetivo que estás tratando de predecir. |\n",
        "| MSSubClass     | La clase de construcción                              |\n",
        "| MSZoning       | La clasificación general de zonificación              |\n",
        "| LotFrontage    | Pies lineales de calle conectados a la propiedad      |\n",
        "| LotArea        | Tamaño del lote en pies cuadrados                      |\n",
        "| Street         | Tipo de acceso a la carretera                         |\n",
        "| Alley          | Tipo de acceso a la callejuela                         |\n",
        "| LotShape       | Forma general de la propiedad                         |\n",
        "| LandContour    | Planitud de la propiedad                              |\n",
        "| Utilities      | Tipo de servicios públicos disponibles                |\n",
        "| LotConfig      | Configuración del lote                                |\n",
        "| LandSlope      | Pendiente de la propiedad                             |\n",
        "| Neighborhood   | Ubicaciones físicas dentro de los límites de la ciudad de Ames |\n",
        "| Condition1     | Proximidad a la carretera principal o ferrocarril      |\n",
        "| Condition2     | Proximidad a la carretera principal o ferrocarril (si hay una segunda presente) |\n",
        "| BldgType       | Tipo de vivienda                                     |\n",
        "| HouseStyle     | Estilo de vivienda                                   |\n",
        "| OverallQual    | Calidad general de materiales y acabados             |\n",
        "| OverallCond    | Calificación general de condición                    |\n",
        "| YearBuilt      | Fecha original de construcción                        |\n",
        "| YearRemodAdd   | Fecha de remodelación                                |\n",
        "| RoofStyle      | Tipo de techo                                        |\n",
        "| RoofMatl       | Material de techo                                    |\n",
        "| Exterior1st    | Revestimiento exterior de la casa                     |\n",
        "| Exterior2nd    | Revestimiento exterior de la casa (si hay más de un material) |\n",
        "| MasVnrType     | Tipo de revestimiento de mampostería                   |\n",
        "| MasVnrArea     | Área de revestimiento de mampostería en pies cuadrados   |\n",
        "| ExterQual      | Calidad del material exterior                        |\n",
        "| ExterCond      | Condición presente del material en el exterior        |\n",
        "| Foundation     | Tipo de cimentación                                 |\n",
        "| BsmtQual       | Altura del sótano                                   |\n",
        "| BsmtCond       | Condición general del sótano                        |\n",
        "| BsmtExposure   | Paredes del sótano a nivel de jardín o semisótano   |\n",
        "| BsmtFinType1   | Calidad del área terminada del sótano, tipo 1     |\n",
        "| BsmtFinSF1     | Pies cuadrados terminados del tipo 1                   |\n",
        "| BsmtFinType2   | Calidad del área terminada del sótano, tipo 2     |\n",
        "| BsmtFinSF2     | Pies cuadrados terminados del tipo 2                   |\n",
        "| BsmtUnfSF      | Pies cuadrados sin terminar del área del sótano        |\n",
        "| TotalBsmtSF    | Pies cuadrados totales del área del sótano             |\n",
        "| Heating        | Tipo de calefacción                                   |\n",
        "| HeatingQC      | Calidad y condición de la calefacción                   |\n",
        "| CentralAir     | Aire acondicionado central                             |\n",
        "| Electrical     | Sistema eléctrico                                     |\n",
        "| 1stFlrSF       | Pies cuadrados del primer piso                        |\n",
        "| 2ndFlrSF       | Pies cuadrados del segundo piso                       |\n",
        "| LowQualFinSF   | Pies cuadrados terminados de baja calidad (en todos los pisos) |\n",
        "| GrLivArea      | Pies cuadrados de área de vida sobre el grado (planta baja) |\n",
        "| BsmtFullBath   | Baños completos en el sótano                          |\n",
        "| BsmtHalfBath   | Medio baños en el sótano                             |\n",
        "| FullBath       | Baños completos sobre el grado                        |\n",
        "| HalfBath       | Medio baños sobre el grado                           |\n",
        "| BedroomAbvGr        | Número de dormitorios sobre el nivel del sótano        |\n",
        "| Kitchen        | Número de cocinas                                   |\n",
        "| KitchenQual    | Calidad de la cocina                                 |\n",
        "| TotRmsAbvGrd   | Total de habitaciones por encima del grado (sin incluir baños) |\n",
        "| Functional     | Calificación de la funcionalidad de la vivienda         |\n",
        "| Fireplaces     | Número de chimeneas                                  |\n",
        "| FireplaceQu    | Calidad de la chimenea                               |\n",
        "| GarageType     | Ubicación del garaje                                 |\n",
        "| GarageYrBlt    | Año en que se construyó el garaje                      |\n",
        "| GarageFinish   | Acabado interior del garaje                            |\n",
        "| GarageCars     | Tamaño del garaje en capacidad de autos                |\n",
        "| GarageArea     | Tamaño del garaje en pies cuadrados                    |\n",
        "| GarageQual     | Calidad del garaje                                  |\n",
        "| GarageCond     | Condición del garaje                                |\n",
        "| PavedDrive     | Entrada pavimentada                                 |\n",
        "| WoodDeckSF     | Área del deck de madera en pies cuadrados             |\n",
        "| OpenPorchSF    | Área del porche abierto en pies cuadrados            |\n",
        "| EnclosedPorch  | Área del porche cerrado en pies cuadrados           |\n",
        "| 3SsnPorch      | Área del porche de tres estaciones en pies cuadrados |\n",
        "| ScreenPorch    | Área del porche con pantalla en pies cuadrados      |\n",
        "| PoolArea       | Área de la piscina en pies cuadrados                   |\n",
        "| PoolQC         | Calidad de la piscina                                 |\n",
        "| Fence          | Calidad de la valla                                   |\n",
        "| MiscFeature    | Característica variada no incluida en otras categorías   |\n",
        "| MiscVal        | Valor en dólares de la característica variada            |\n",
        "| MoSold         | Mes de venta                                        |\n",
        "| YrSold         | Año de venta                                       |\n",
        "| SaleType       | Tipo de venta                                       |\n",
        "| SaleCondition  | Condición de la venta                                |\n"
      ],
      "metadata": {
        "id": "vt2PpD7SLLeC"
      }
    },
    {
      "cell_type": "markdown",
      "source": [
        "# Carga de datos\n",
        "\n",
        "Esta es toda la ayuda que su gran profe les va a dar, así que aprovéchenla"
      ],
      "metadata": {
        "id": "bBcR290zM25E"
      }
    },
    {
      "cell_type": "code",
      "execution_count": 7,
      "metadata": {
        "id": "mNoczMChKk8k"
      },
      "outputs": [],
      "source": [
        "### Librerías\n",
        "\n",
        "import pandas as pd\n",
        "import numpy as np\n",
        "import matplotlib.pyplot as plt\n",
        "import seaborn as sns\n"
      ]
    },
    {
      "cell_type": "code",
      "source": [
        "data = pd.read_csv('https://raw.githubusercontent.com/aladelca/machine_learning_model/main/archivos_trabajo/train%20(5).csv')\n",
        "data.head()"
      ],
      "metadata": {
        "colab": {
          "base_uri": "https://localhost:8080/",
          "height": 256
        },
        "id": "Qz4OlfKFKt9S",
        "outputId": "1bd71ccc-b304-4174-e028-a2513edfd401"
      },
      "execution_count": 8,
      "outputs": [
        {
          "output_type": "execute_result",
          "data": {
            "text/plain": [
              "   Id  MSSubClass MSZoning  LotFrontage  LotArea Street Alley LotShape  \\\n",
              "0   1          60       RL         65.0     8450   Pave   NaN      Reg   \n",
              "1   2          20       RL         80.0     9600   Pave   NaN      Reg   \n",
              "2   3          60       RL         68.0    11250   Pave   NaN      IR1   \n",
              "3   4          70       RL         60.0     9550   Pave   NaN      IR1   \n",
              "4   5          60       RL         84.0    14260   Pave   NaN      IR1   \n",
              "\n",
              "  LandContour Utilities  ... PoolArea PoolQC Fence MiscFeature MiscVal MoSold  \\\n",
              "0         Lvl    AllPub  ...        0    NaN   NaN         NaN       0      2   \n",
              "1         Lvl    AllPub  ...        0    NaN   NaN         NaN       0      5   \n",
              "2         Lvl    AllPub  ...        0    NaN   NaN         NaN       0      9   \n",
              "3         Lvl    AllPub  ...        0    NaN   NaN         NaN       0      2   \n",
              "4         Lvl    AllPub  ...        0    NaN   NaN         NaN       0     12   \n",
              "\n",
              "  YrSold  SaleType  SaleCondition  SalePrice  \n",
              "0   2008        WD         Normal     208500  \n",
              "1   2007        WD         Normal     181500  \n",
              "2   2008        WD         Normal     223500  \n",
              "3   2006        WD        Abnorml     140000  \n",
              "4   2008        WD         Normal     250000  \n",
              "\n",
              "[5 rows x 81 columns]"
            ],
            "text/html": [
              "\n",
              "  <div id=\"df-52c1f4af-9122-4fe7-8aff-93f2f7f81ef9\" class=\"colab-df-container\">\n",
              "    <div>\n",
              "<style scoped>\n",
              "    .dataframe tbody tr th:only-of-type {\n",
              "        vertical-align: middle;\n",
              "    }\n",
              "\n",
              "    .dataframe tbody tr th {\n",
              "        vertical-align: top;\n",
              "    }\n",
              "\n",
              "    .dataframe thead th {\n",
              "        text-align: right;\n",
              "    }\n",
              "</style>\n",
              "<table border=\"1\" class=\"dataframe\">\n",
              "  <thead>\n",
              "    <tr style=\"text-align: right;\">\n",
              "      <th></th>\n",
              "      <th>Id</th>\n",
              "      <th>MSSubClass</th>\n",
              "      <th>MSZoning</th>\n",
              "      <th>LotFrontage</th>\n",
              "      <th>LotArea</th>\n",
              "      <th>Street</th>\n",
              "      <th>Alley</th>\n",
              "      <th>LotShape</th>\n",
              "      <th>LandContour</th>\n",
              "      <th>Utilities</th>\n",
              "      <th>...</th>\n",
              "      <th>PoolArea</th>\n",
              "      <th>PoolQC</th>\n",
              "      <th>Fence</th>\n",
              "      <th>MiscFeature</th>\n",
              "      <th>MiscVal</th>\n",
              "      <th>MoSold</th>\n",
              "      <th>YrSold</th>\n",
              "      <th>SaleType</th>\n",
              "      <th>SaleCondition</th>\n",
              "      <th>SalePrice</th>\n",
              "    </tr>\n",
              "  </thead>\n",
              "  <tbody>\n",
              "    <tr>\n",
              "      <th>0</th>\n",
              "      <td>1</td>\n",
              "      <td>60</td>\n",
              "      <td>RL</td>\n",
              "      <td>65.0</td>\n",
              "      <td>8450</td>\n",
              "      <td>Pave</td>\n",
              "      <td>NaN</td>\n",
              "      <td>Reg</td>\n",
              "      <td>Lvl</td>\n",
              "      <td>AllPub</td>\n",
              "      <td>...</td>\n",
              "      <td>0</td>\n",
              "      <td>NaN</td>\n",
              "      <td>NaN</td>\n",
              "      <td>NaN</td>\n",
              "      <td>0</td>\n",
              "      <td>2</td>\n",
              "      <td>2008</td>\n",
              "      <td>WD</td>\n",
              "      <td>Normal</td>\n",
              "      <td>208500</td>\n",
              "    </tr>\n",
              "    <tr>\n",
              "      <th>1</th>\n",
              "      <td>2</td>\n",
              "      <td>20</td>\n",
              "      <td>RL</td>\n",
              "      <td>80.0</td>\n",
              "      <td>9600</td>\n",
              "      <td>Pave</td>\n",
              "      <td>NaN</td>\n",
              "      <td>Reg</td>\n",
              "      <td>Lvl</td>\n",
              "      <td>AllPub</td>\n",
              "      <td>...</td>\n",
              "      <td>0</td>\n",
              "      <td>NaN</td>\n",
              "      <td>NaN</td>\n",
              "      <td>NaN</td>\n",
              "      <td>0</td>\n",
              "      <td>5</td>\n",
              "      <td>2007</td>\n",
              "      <td>WD</td>\n",
              "      <td>Normal</td>\n",
              "      <td>181500</td>\n",
              "    </tr>\n",
              "    <tr>\n",
              "      <th>2</th>\n",
              "      <td>3</td>\n",
              "      <td>60</td>\n",
              "      <td>RL</td>\n",
              "      <td>68.0</td>\n",
              "      <td>11250</td>\n",
              "      <td>Pave</td>\n",
              "      <td>NaN</td>\n",
              "      <td>IR1</td>\n",
              "      <td>Lvl</td>\n",
              "      <td>AllPub</td>\n",
              "      <td>...</td>\n",
              "      <td>0</td>\n",
              "      <td>NaN</td>\n",
              "      <td>NaN</td>\n",
              "      <td>NaN</td>\n",
              "      <td>0</td>\n",
              "      <td>9</td>\n",
              "      <td>2008</td>\n",
              "      <td>WD</td>\n",
              "      <td>Normal</td>\n",
              "      <td>223500</td>\n",
              "    </tr>\n",
              "    <tr>\n",
              "      <th>3</th>\n",
              "      <td>4</td>\n",
              "      <td>70</td>\n",
              "      <td>RL</td>\n",
              "      <td>60.0</td>\n",
              "      <td>9550</td>\n",
              "      <td>Pave</td>\n",
              "      <td>NaN</td>\n",
              "      <td>IR1</td>\n",
              "      <td>Lvl</td>\n",
              "      <td>AllPub</td>\n",
              "      <td>...</td>\n",
              "      <td>0</td>\n",
              "      <td>NaN</td>\n",
              "      <td>NaN</td>\n",
              "      <td>NaN</td>\n",
              "      <td>0</td>\n",
              "      <td>2</td>\n",
              "      <td>2006</td>\n",
              "      <td>WD</td>\n",
              "      <td>Abnorml</td>\n",
              "      <td>140000</td>\n",
              "    </tr>\n",
              "    <tr>\n",
              "      <th>4</th>\n",
              "      <td>5</td>\n",
              "      <td>60</td>\n",
              "      <td>RL</td>\n",
              "      <td>84.0</td>\n",
              "      <td>14260</td>\n",
              "      <td>Pave</td>\n",
              "      <td>NaN</td>\n",
              "      <td>IR1</td>\n",
              "      <td>Lvl</td>\n",
              "      <td>AllPub</td>\n",
              "      <td>...</td>\n",
              "      <td>0</td>\n",
              "      <td>NaN</td>\n",
              "      <td>NaN</td>\n",
              "      <td>NaN</td>\n",
              "      <td>0</td>\n",
              "      <td>12</td>\n",
              "      <td>2008</td>\n",
              "      <td>WD</td>\n",
              "      <td>Normal</td>\n",
              "      <td>250000</td>\n",
              "    </tr>\n",
              "  </tbody>\n",
              "</table>\n",
              "<p>5 rows × 81 columns</p>\n",
              "</div>\n",
              "    <div class=\"colab-df-buttons\">\n",
              "\n",
              "  <div class=\"colab-df-container\">\n",
              "    <button class=\"colab-df-convert\" onclick=\"convertToInteractive('df-52c1f4af-9122-4fe7-8aff-93f2f7f81ef9')\"\n",
              "            title=\"Convert this dataframe to an interactive table.\"\n",
              "            style=\"display:none;\">\n",
              "\n",
              "  <svg xmlns=\"http://www.w3.org/2000/svg\" height=\"24px\" viewBox=\"0 -960 960 960\">\n",
              "    <path d=\"M120-120v-720h720v720H120Zm60-500h600v-160H180v160Zm220 220h160v-160H400v160Zm0 220h160v-160H400v160ZM180-400h160v-160H180v160Zm440 0h160v-160H620v160ZM180-180h160v-160H180v160Zm440 0h160v-160H620v160Z\"/>\n",
              "  </svg>\n",
              "    </button>\n",
              "\n",
              "  <style>\n",
              "    .colab-df-container {\n",
              "      display:flex;\n",
              "      gap: 12px;\n",
              "    }\n",
              "\n",
              "    .colab-df-convert {\n",
              "      background-color: #E8F0FE;\n",
              "      border: none;\n",
              "      border-radius: 50%;\n",
              "      cursor: pointer;\n",
              "      display: none;\n",
              "      fill: #1967D2;\n",
              "      height: 32px;\n",
              "      padding: 0 0 0 0;\n",
              "      width: 32px;\n",
              "    }\n",
              "\n",
              "    .colab-df-convert:hover {\n",
              "      background-color: #E2EBFA;\n",
              "      box-shadow: 0px 1px 2px rgba(60, 64, 67, 0.3), 0px 1px 3px 1px rgba(60, 64, 67, 0.15);\n",
              "      fill: #174EA6;\n",
              "    }\n",
              "\n",
              "    .colab-df-buttons div {\n",
              "      margin-bottom: 4px;\n",
              "    }\n",
              "\n",
              "    [theme=dark] .colab-df-convert {\n",
              "      background-color: #3B4455;\n",
              "      fill: #D2E3FC;\n",
              "    }\n",
              "\n",
              "    [theme=dark] .colab-df-convert:hover {\n",
              "      background-color: #434B5C;\n",
              "      box-shadow: 0px 1px 3px 1px rgba(0, 0, 0, 0.15);\n",
              "      filter: drop-shadow(0px 1px 2px rgba(0, 0, 0, 0.3));\n",
              "      fill: #FFFFFF;\n",
              "    }\n",
              "  </style>\n",
              "\n",
              "    <script>\n",
              "      const buttonEl =\n",
              "        document.querySelector('#df-52c1f4af-9122-4fe7-8aff-93f2f7f81ef9 button.colab-df-convert');\n",
              "      buttonEl.style.display =\n",
              "        google.colab.kernel.accessAllowed ? 'block' : 'none';\n",
              "\n",
              "      async function convertToInteractive(key) {\n",
              "        const element = document.querySelector('#df-52c1f4af-9122-4fe7-8aff-93f2f7f81ef9');\n",
              "        const dataTable =\n",
              "          await google.colab.kernel.invokeFunction('convertToInteractive',\n",
              "                                                    [key], {});\n",
              "        if (!dataTable) return;\n",
              "\n",
              "        const docLinkHtml = 'Like what you see? Visit the ' +\n",
              "          '<a target=\"_blank\" href=https://colab.research.google.com/notebooks/data_table.ipynb>data table notebook</a>'\n",
              "          + ' to learn more about interactive tables.';\n",
              "        element.innerHTML = '';\n",
              "        dataTable['output_type'] = 'display_data';\n",
              "        await google.colab.output.renderOutput(dataTable, element);\n",
              "        const docLink = document.createElement('div');\n",
              "        docLink.innerHTML = docLinkHtml;\n",
              "        element.appendChild(docLink);\n",
              "      }\n",
              "    </script>\n",
              "  </div>\n",
              "\n",
              "\n",
              "<div id=\"df-79f9875b-5dc1-4f5b-8d84-cb833d13a96b\">\n",
              "  <button class=\"colab-df-quickchart\" onclick=\"quickchart('df-79f9875b-5dc1-4f5b-8d84-cb833d13a96b')\"\n",
              "            title=\"Suggest charts.\"\n",
              "            style=\"display:none;\">\n",
              "\n",
              "<svg xmlns=\"http://www.w3.org/2000/svg\" height=\"24px\"viewBox=\"0 0 24 24\"\n",
              "     width=\"24px\">\n",
              "    <g>\n",
              "        <path d=\"M19 3H5c-1.1 0-2 .9-2 2v14c0 1.1.9 2 2 2h14c1.1 0 2-.9 2-2V5c0-1.1-.9-2-2-2zM9 17H7v-7h2v7zm4 0h-2V7h2v10zm4 0h-2v-4h2v4z\"/>\n",
              "    </g>\n",
              "</svg>\n",
              "  </button>\n",
              "\n",
              "<style>\n",
              "  .colab-df-quickchart {\n",
              "      --bg-color: #E8F0FE;\n",
              "      --fill-color: #1967D2;\n",
              "      --hover-bg-color: #E2EBFA;\n",
              "      --hover-fill-color: #174EA6;\n",
              "      --disabled-fill-color: #AAA;\n",
              "      --disabled-bg-color: #DDD;\n",
              "  }\n",
              "\n",
              "  [theme=dark] .colab-df-quickchart {\n",
              "      --bg-color: #3B4455;\n",
              "      --fill-color: #D2E3FC;\n",
              "      --hover-bg-color: #434B5C;\n",
              "      --hover-fill-color: #FFFFFF;\n",
              "      --disabled-bg-color: #3B4455;\n",
              "      --disabled-fill-color: #666;\n",
              "  }\n",
              "\n",
              "  .colab-df-quickchart {\n",
              "    background-color: var(--bg-color);\n",
              "    border: none;\n",
              "    border-radius: 50%;\n",
              "    cursor: pointer;\n",
              "    display: none;\n",
              "    fill: var(--fill-color);\n",
              "    height: 32px;\n",
              "    padding: 0;\n",
              "    width: 32px;\n",
              "  }\n",
              "\n",
              "  .colab-df-quickchart:hover {\n",
              "    background-color: var(--hover-bg-color);\n",
              "    box-shadow: 0 1px 2px rgba(60, 64, 67, 0.3), 0 1px 3px 1px rgba(60, 64, 67, 0.15);\n",
              "    fill: var(--button-hover-fill-color);\n",
              "  }\n",
              "\n",
              "  .colab-df-quickchart-complete:disabled,\n",
              "  .colab-df-quickchart-complete:disabled:hover {\n",
              "    background-color: var(--disabled-bg-color);\n",
              "    fill: var(--disabled-fill-color);\n",
              "    box-shadow: none;\n",
              "  }\n",
              "\n",
              "  .colab-df-spinner {\n",
              "    border: 2px solid var(--fill-color);\n",
              "    border-color: transparent;\n",
              "    border-bottom-color: var(--fill-color);\n",
              "    animation:\n",
              "      spin 1s steps(1) infinite;\n",
              "  }\n",
              "\n",
              "  @keyframes spin {\n",
              "    0% {\n",
              "      border-color: transparent;\n",
              "      border-bottom-color: var(--fill-color);\n",
              "      border-left-color: var(--fill-color);\n",
              "    }\n",
              "    20% {\n",
              "      border-color: transparent;\n",
              "      border-left-color: var(--fill-color);\n",
              "      border-top-color: var(--fill-color);\n",
              "    }\n",
              "    30% {\n",
              "      border-color: transparent;\n",
              "      border-left-color: var(--fill-color);\n",
              "      border-top-color: var(--fill-color);\n",
              "      border-right-color: var(--fill-color);\n",
              "    }\n",
              "    40% {\n",
              "      border-color: transparent;\n",
              "      border-right-color: var(--fill-color);\n",
              "      border-top-color: var(--fill-color);\n",
              "    }\n",
              "    60% {\n",
              "      border-color: transparent;\n",
              "      border-right-color: var(--fill-color);\n",
              "    }\n",
              "    80% {\n",
              "      border-color: transparent;\n",
              "      border-right-color: var(--fill-color);\n",
              "      border-bottom-color: var(--fill-color);\n",
              "    }\n",
              "    90% {\n",
              "      border-color: transparent;\n",
              "      border-bottom-color: var(--fill-color);\n",
              "    }\n",
              "  }\n",
              "</style>\n",
              "\n",
              "  <script>\n",
              "    async function quickchart(key) {\n",
              "      const quickchartButtonEl =\n",
              "        document.querySelector('#' + key + ' button');\n",
              "      quickchartButtonEl.disabled = true;  // To prevent multiple clicks.\n",
              "      quickchartButtonEl.classList.add('colab-df-spinner');\n",
              "      try {\n",
              "        const charts = await google.colab.kernel.invokeFunction(\n",
              "            'suggestCharts', [key], {});\n",
              "      } catch (error) {\n",
              "        console.error('Error during call to suggestCharts:', error);\n",
              "      }\n",
              "      quickchartButtonEl.classList.remove('colab-df-spinner');\n",
              "      quickchartButtonEl.classList.add('colab-df-quickchart-complete');\n",
              "    }\n",
              "    (() => {\n",
              "      let quickchartButtonEl =\n",
              "        document.querySelector('#df-79f9875b-5dc1-4f5b-8d84-cb833d13a96b button');\n",
              "      quickchartButtonEl.style.display =\n",
              "        google.colab.kernel.accessAllowed ? 'block' : 'none';\n",
              "    })();\n",
              "  </script>\n",
              "</div>\n",
              "    </div>\n",
              "  </div>\n"
            ]
          },
          "metadata": {},
          "execution_count": 8
        }
      ]
    },
    {
      "cell_type": "markdown",
      "source": [
        "# Primera pregunta (5 puntos)"
      ],
      "metadata": {
        "id": "c1CPwaOCM-25"
      }
    },
    {
      "cell_type": "markdown",
      "source": [
        "La pareja tiene un presupuesto limitado, así que quieren una explicación clara acerca los factores que influyen en el precio de una vivienda. Ustedes, como analistas de datos, han decidido centrar su análisis en 4 variables:\n",
        "\n",
        "* Tamaño del lote\n",
        "* Número de dormitorios\n",
        "* Número de baños\n",
        "* Años que tiene la casa\n",
        "\n",
        "La última variable es calculada y la fórmula es el año en la que fue vendida la casa menos la fecha más reciente entre el año de remodelación y el año de construcción\n"
      ],
      "metadata": {
        "id": "Qadvh1d8NFMY"
      }
    },
    {
      "cell_type": "code",
      "source": [
        "### Escribe el código para crear la nueva variable. Ponle de nombre 'anios_casa'. Si no tiene ese nombre, se reducirán puntos\n",
        "data['anios_casa'] = data['YrSold'] - np.where((data['YearBuilt']>data['YearRemodAdd']), data['YearBuilt'], data['YearRemodAdd'])\n",
        "columns = ['LotArea','BedroomAbvGr','FullBath','anios_casa','SalePrice']\n",
        "data[columns].head()"
      ],
      "metadata": {
        "id": "8n_XtNfWNERl",
        "colab": {
          "base_uri": "https://localhost:8080/",
          "height": 206
        },
        "outputId": "e083011e-c672-4065-812c-2cfdb20aa3d5"
      },
      "execution_count": 51,
      "outputs": [
        {
          "output_type": "execute_result",
          "data": {
            "text/plain": [
              "   LotArea  BedroomAbvGr  FullBath  anios_casa  SalePrice\n",
              "0     8450             3         2           5     208500\n",
              "1     9600             3         2          31     181500\n",
              "2    11250             3         2           6     223500\n",
              "3     9550             3         1          36     140000\n",
              "4    14260             4         2           8     250000"
            ],
            "text/html": [
              "\n",
              "  <div id=\"df-eda2ce01-8a99-451a-8eb7-1442a466392e\" class=\"colab-df-container\">\n",
              "    <div>\n",
              "<style scoped>\n",
              "    .dataframe tbody tr th:only-of-type {\n",
              "        vertical-align: middle;\n",
              "    }\n",
              "\n",
              "    .dataframe tbody tr th {\n",
              "        vertical-align: top;\n",
              "    }\n",
              "\n",
              "    .dataframe thead th {\n",
              "        text-align: right;\n",
              "    }\n",
              "</style>\n",
              "<table border=\"1\" class=\"dataframe\">\n",
              "  <thead>\n",
              "    <tr style=\"text-align: right;\">\n",
              "      <th></th>\n",
              "      <th>LotArea</th>\n",
              "      <th>BedroomAbvGr</th>\n",
              "      <th>FullBath</th>\n",
              "      <th>anios_casa</th>\n",
              "      <th>SalePrice</th>\n",
              "    </tr>\n",
              "  </thead>\n",
              "  <tbody>\n",
              "    <tr>\n",
              "      <th>0</th>\n",
              "      <td>8450</td>\n",
              "      <td>3</td>\n",
              "      <td>2</td>\n",
              "      <td>5</td>\n",
              "      <td>208500</td>\n",
              "    </tr>\n",
              "    <tr>\n",
              "      <th>1</th>\n",
              "      <td>9600</td>\n",
              "      <td>3</td>\n",
              "      <td>2</td>\n",
              "      <td>31</td>\n",
              "      <td>181500</td>\n",
              "    </tr>\n",
              "    <tr>\n",
              "      <th>2</th>\n",
              "      <td>11250</td>\n",
              "      <td>3</td>\n",
              "      <td>2</td>\n",
              "      <td>6</td>\n",
              "      <td>223500</td>\n",
              "    </tr>\n",
              "    <tr>\n",
              "      <th>3</th>\n",
              "      <td>9550</td>\n",
              "      <td>3</td>\n",
              "      <td>1</td>\n",
              "      <td>36</td>\n",
              "      <td>140000</td>\n",
              "    </tr>\n",
              "    <tr>\n",
              "      <th>4</th>\n",
              "      <td>14260</td>\n",
              "      <td>4</td>\n",
              "      <td>2</td>\n",
              "      <td>8</td>\n",
              "      <td>250000</td>\n",
              "    </tr>\n",
              "  </tbody>\n",
              "</table>\n",
              "</div>\n",
              "    <div class=\"colab-df-buttons\">\n",
              "\n",
              "  <div class=\"colab-df-container\">\n",
              "    <button class=\"colab-df-convert\" onclick=\"convertToInteractive('df-eda2ce01-8a99-451a-8eb7-1442a466392e')\"\n",
              "            title=\"Convert this dataframe to an interactive table.\"\n",
              "            style=\"display:none;\">\n",
              "\n",
              "  <svg xmlns=\"http://www.w3.org/2000/svg\" height=\"24px\" viewBox=\"0 -960 960 960\">\n",
              "    <path d=\"M120-120v-720h720v720H120Zm60-500h600v-160H180v160Zm220 220h160v-160H400v160Zm0 220h160v-160H400v160ZM180-400h160v-160H180v160Zm440 0h160v-160H620v160ZM180-180h160v-160H180v160Zm440 0h160v-160H620v160Z\"/>\n",
              "  </svg>\n",
              "    </button>\n",
              "\n",
              "  <style>\n",
              "    .colab-df-container {\n",
              "      display:flex;\n",
              "      gap: 12px;\n",
              "    }\n",
              "\n",
              "    .colab-df-convert {\n",
              "      background-color: #E8F0FE;\n",
              "      border: none;\n",
              "      border-radius: 50%;\n",
              "      cursor: pointer;\n",
              "      display: none;\n",
              "      fill: #1967D2;\n",
              "      height: 32px;\n",
              "      padding: 0 0 0 0;\n",
              "      width: 32px;\n",
              "    }\n",
              "\n",
              "    .colab-df-convert:hover {\n",
              "      background-color: #E2EBFA;\n",
              "      box-shadow: 0px 1px 2px rgba(60, 64, 67, 0.3), 0px 1px 3px 1px rgba(60, 64, 67, 0.15);\n",
              "      fill: #174EA6;\n",
              "    }\n",
              "\n",
              "    .colab-df-buttons div {\n",
              "      margin-bottom: 4px;\n",
              "    }\n",
              "\n",
              "    [theme=dark] .colab-df-convert {\n",
              "      background-color: #3B4455;\n",
              "      fill: #D2E3FC;\n",
              "    }\n",
              "\n",
              "    [theme=dark] .colab-df-convert:hover {\n",
              "      background-color: #434B5C;\n",
              "      box-shadow: 0px 1px 3px 1px rgba(0, 0, 0, 0.15);\n",
              "      filter: drop-shadow(0px 1px 2px rgba(0, 0, 0, 0.3));\n",
              "      fill: #FFFFFF;\n",
              "    }\n",
              "  </style>\n",
              "\n",
              "    <script>\n",
              "      const buttonEl =\n",
              "        document.querySelector('#df-eda2ce01-8a99-451a-8eb7-1442a466392e button.colab-df-convert');\n",
              "      buttonEl.style.display =\n",
              "        google.colab.kernel.accessAllowed ? 'block' : 'none';\n",
              "\n",
              "      async function convertToInteractive(key) {\n",
              "        const element = document.querySelector('#df-eda2ce01-8a99-451a-8eb7-1442a466392e');\n",
              "        const dataTable =\n",
              "          await google.colab.kernel.invokeFunction('convertToInteractive',\n",
              "                                                    [key], {});\n",
              "        if (!dataTable) return;\n",
              "\n",
              "        const docLinkHtml = 'Like what you see? Visit the ' +\n",
              "          '<a target=\"_blank\" href=https://colab.research.google.com/notebooks/data_table.ipynb>data table notebook</a>'\n",
              "          + ' to learn more about interactive tables.';\n",
              "        element.innerHTML = '';\n",
              "        dataTable['output_type'] = 'display_data';\n",
              "        await google.colab.output.renderOutput(dataTable, element);\n",
              "        const docLink = document.createElement('div');\n",
              "        docLink.innerHTML = docLinkHtml;\n",
              "        element.appendChild(docLink);\n",
              "      }\n",
              "    </script>\n",
              "  </div>\n",
              "\n",
              "\n",
              "<div id=\"df-e4cca11c-7c46-43e4-b8a5-df9257888dc8\">\n",
              "  <button class=\"colab-df-quickchart\" onclick=\"quickchart('df-e4cca11c-7c46-43e4-b8a5-df9257888dc8')\"\n",
              "            title=\"Suggest charts.\"\n",
              "            style=\"display:none;\">\n",
              "\n",
              "<svg xmlns=\"http://www.w3.org/2000/svg\" height=\"24px\"viewBox=\"0 0 24 24\"\n",
              "     width=\"24px\">\n",
              "    <g>\n",
              "        <path d=\"M19 3H5c-1.1 0-2 .9-2 2v14c0 1.1.9 2 2 2h14c1.1 0 2-.9 2-2V5c0-1.1-.9-2-2-2zM9 17H7v-7h2v7zm4 0h-2V7h2v10zm4 0h-2v-4h2v4z\"/>\n",
              "    </g>\n",
              "</svg>\n",
              "  </button>\n",
              "\n",
              "<style>\n",
              "  .colab-df-quickchart {\n",
              "      --bg-color: #E8F0FE;\n",
              "      --fill-color: #1967D2;\n",
              "      --hover-bg-color: #E2EBFA;\n",
              "      --hover-fill-color: #174EA6;\n",
              "      --disabled-fill-color: #AAA;\n",
              "      --disabled-bg-color: #DDD;\n",
              "  }\n",
              "\n",
              "  [theme=dark] .colab-df-quickchart {\n",
              "      --bg-color: #3B4455;\n",
              "      --fill-color: #D2E3FC;\n",
              "      --hover-bg-color: #434B5C;\n",
              "      --hover-fill-color: #FFFFFF;\n",
              "      --disabled-bg-color: #3B4455;\n",
              "      --disabled-fill-color: #666;\n",
              "  }\n",
              "\n",
              "  .colab-df-quickchart {\n",
              "    background-color: var(--bg-color);\n",
              "    border: none;\n",
              "    border-radius: 50%;\n",
              "    cursor: pointer;\n",
              "    display: none;\n",
              "    fill: var(--fill-color);\n",
              "    height: 32px;\n",
              "    padding: 0;\n",
              "    width: 32px;\n",
              "  }\n",
              "\n",
              "  .colab-df-quickchart:hover {\n",
              "    background-color: var(--hover-bg-color);\n",
              "    box-shadow: 0 1px 2px rgba(60, 64, 67, 0.3), 0 1px 3px 1px rgba(60, 64, 67, 0.15);\n",
              "    fill: var(--button-hover-fill-color);\n",
              "  }\n",
              "\n",
              "  .colab-df-quickchart-complete:disabled,\n",
              "  .colab-df-quickchart-complete:disabled:hover {\n",
              "    background-color: var(--disabled-bg-color);\n",
              "    fill: var(--disabled-fill-color);\n",
              "    box-shadow: none;\n",
              "  }\n",
              "\n",
              "  .colab-df-spinner {\n",
              "    border: 2px solid var(--fill-color);\n",
              "    border-color: transparent;\n",
              "    border-bottom-color: var(--fill-color);\n",
              "    animation:\n",
              "      spin 1s steps(1) infinite;\n",
              "  }\n",
              "\n",
              "  @keyframes spin {\n",
              "    0% {\n",
              "      border-color: transparent;\n",
              "      border-bottom-color: var(--fill-color);\n",
              "      border-left-color: var(--fill-color);\n",
              "    }\n",
              "    20% {\n",
              "      border-color: transparent;\n",
              "      border-left-color: var(--fill-color);\n",
              "      border-top-color: var(--fill-color);\n",
              "    }\n",
              "    30% {\n",
              "      border-color: transparent;\n",
              "      border-left-color: var(--fill-color);\n",
              "      border-top-color: var(--fill-color);\n",
              "      border-right-color: var(--fill-color);\n",
              "    }\n",
              "    40% {\n",
              "      border-color: transparent;\n",
              "      border-right-color: var(--fill-color);\n",
              "      border-top-color: var(--fill-color);\n",
              "    }\n",
              "    60% {\n",
              "      border-color: transparent;\n",
              "      border-right-color: var(--fill-color);\n",
              "    }\n",
              "    80% {\n",
              "      border-color: transparent;\n",
              "      border-right-color: var(--fill-color);\n",
              "      border-bottom-color: var(--fill-color);\n",
              "    }\n",
              "    90% {\n",
              "      border-color: transparent;\n",
              "      border-bottom-color: var(--fill-color);\n",
              "    }\n",
              "  }\n",
              "</style>\n",
              "\n",
              "  <script>\n",
              "    async function quickchart(key) {\n",
              "      const quickchartButtonEl =\n",
              "        document.querySelector('#' + key + ' button');\n",
              "      quickchartButtonEl.disabled = true;  // To prevent multiple clicks.\n",
              "      quickchartButtonEl.classList.add('colab-df-spinner');\n",
              "      try {\n",
              "        const charts = await google.colab.kernel.invokeFunction(\n",
              "            'suggestCharts', [key], {});\n",
              "      } catch (error) {\n",
              "        console.error('Error during call to suggestCharts:', error);\n",
              "      }\n",
              "      quickchartButtonEl.classList.remove('colab-df-spinner');\n",
              "      quickchartButtonEl.classList.add('colab-df-quickchart-complete');\n",
              "    }\n",
              "    (() => {\n",
              "      let quickchartButtonEl =\n",
              "        document.querySelector('#df-e4cca11c-7c46-43e4-b8a5-df9257888dc8 button');\n",
              "      quickchartButtonEl.style.display =\n",
              "        google.colab.kernel.accessAllowed ? 'block' : 'none';\n",
              "    })();\n",
              "  </script>\n",
              "</div>\n",
              "    </div>\n",
              "  </div>\n"
            ]
          },
          "metadata": {},
          "execution_count": 51
        }
      ]
    },
    {
      "cell_type": "markdown",
      "source": [
        "Una vez que ya tienes todas las variables, entrena un modelo de regresión lineal e imprime el R2, MSE y MAE, además de la ecuación de la recta"
      ],
      "metadata": {
        "id": "J5QrV8lxQfRu"
      }
    },
    {
      "cell_type": "code",
      "source": [
        "### Escribe aquí el código\n",
        "from sklearn.linear_model import LinearRegression\n",
        "from sklearn.metrics import r2_score\n",
        "from sklearn.metrics import mean_squared_error\n",
        "from sklearn.metrics import mean_absolute_error\n",
        "\n",
        "columns = ['LotArea','BedroomAbvGr','FullBath','anios_casa']\n",
        "x = data[['LotArea','BedroomAbvGr','FullBath','anios_casa']]\n",
        "y = data[['SalePrice']]\n",
        "\n",
        "modelo_rlm = LinearRegression()\n",
        "modelo_rlm.fit(x, y)\n",
        "\n",
        "preds = modelo_rlm.predict(data[columns])\n",
        "print('R2:',r2_score(y,preds))\n",
        "print('R2 ajustado:',1 - (1-modelo_rlm.score(x, y))*(len(y)-1)/(len(y)-x.shape[1]-1))\n",
        "\n",
        "print('MSE:',mean_squared_error(y,preds))\n",
        "print('MAE:',mean_absolute_error(y,preds))"
      ],
      "metadata": {
        "id": "v4vFjDcrQdsd",
        "colab": {
          "base_uri": "https://localhost:8080/"
        },
        "outputId": "88d224f3-00ce-4a0e-8afc-57a3af888e67"
      },
      "execution_count": 55,
      "outputs": [
        {
          "output_type": "stream",
          "name": "stdout",
          "text": [
            "R2: 0.44330682095903307\n",
            "R2 ajustado: 0.44177639297541527\n",
            "MSE: 3510946187.117384\n",
            "MAE: 40899.36999718007\n"
          ]
        }
      ]
    },
    {
      "cell_type": "markdown",
      "source": [
        "La pareja les está preguntando, dentro de todas esas variables, cuál es la que más influye en el precio de la casa."
      ],
      "metadata": {
        "id": "K7Ybozn5QxvT"
      }
    },
    {
      "cell_type": "code",
      "source": [
        "for i in range(len(modelo_rlm.coef_[0])):\n",
        "  print(columns[i],':',modelo_rlm.coef_[0][i])"
      ],
      "metadata": {
        "colab": {
          "base_uri": "https://localhost:8080/"
        },
        "id": "6Pw2jyFG5iJt",
        "outputId": "6f51e428-54a5-4f76-97b0-6c9a50a16832"
      },
      "execution_count": 57,
      "outputs": [
        {
          "output_type": "stream",
          "name": "stdout",
          "text": [
            "LotArea : 1.6633003886307551\n",
            "BedroomAbvGr : 1864.0663118199736\n",
            "FullBath : 54421.526778249536\n",
            "anios_casa : -1310.625335529161\n"
          ]
        }
      ]
    },
    {
      "cell_type": "markdown",
      "source": [
        "La variable FullBath es mas impacta dentro de las variables analizadas, siempre y cuando no cambie los valores de las otras variables."
      ],
      "metadata": {
        "id": "WWfILZlcRN0i"
      }
    },
    {
      "cell_type": "markdown",
      "source": [
        "La pareja quiere saber cuánto debería pagar de más, en promedio, por tener una habitación completa más."
      ],
      "metadata": {
        "id": "c7f3-fRDRnNQ"
      }
    },
    {
      "cell_type": "markdown",
      "source": [
        "La pareja debería pagar un aproximado de 1864 veces más para tener una nueva habitación."
      ],
      "metadata": {
        "id": "NpzKaVBhTO2i"
      }
    },
    {
      "cell_type": "markdown",
      "source": [
        "La pareja quiere una casa con 3 dormitorios completos, de 10 años de antiguedad, con 2 baños y de 7000 pies cuadrados de área. ¿Cuál es el precio predicho de acuerdo a estas características?"
      ],
      "metadata": {
        "id": "wH8KoJzuTWX1"
      }
    },
    {
      "cell_type": "code",
      "source": [
        "## Escribe tu código aquí. Les dejaré una ayuda más nada más para que vean que soy buena gente.\n",
        "\n",
        "requerimientos = np.array([[3,10,2,7000]])\n",
        "promedio = np.mean(requerimientos)\n",
        "std = np.std(requerimientos)\n",
        "\n",
        "nueva_data = (requerimientos-promedio)/std\n",
        "\n",
        "print(np.mean(nueva_data))\n",
        "print(np.std(nueva_data))"
      ],
      "metadata": {
        "id": "a50_v9nOTdWn",
        "colab": {
          "base_uri": "https://localhost:8080/"
        },
        "outputId": "a5ddf9f3-c69c-4ca2-b132-bd987a6d8c6e"
      },
      "execution_count": 58,
      "outputs": [
        {
          "output_type": "stream",
          "name": "stdout",
          "text": [
            "0.0\n",
            "1.0\n"
          ]
        }
      ]
    },
    {
      "cell_type": "markdown",
      "source": [
        "# Segunda pregunta (5 puntos)"
      ],
      "metadata": {
        "id": "ffLk-Cl5UBwg"
      }
    },
    {
      "cell_type": "markdown",
      "source": [
        "Ustedes, como analistas de datos, saben que el modelo de regresión lineal es sensible a los valores atípicos. Por eso, ahora entrenarán el modelo sin utilizar outliers. Para filtrarlos, deberán utilizar el método de cajas y bastones (o más conocido como `boxplot`)"
      ],
      "metadata": {
        "id": "CBNNNMD2U-kB"
      }
    },
    {
      "cell_type": "code",
      "source": [
        "### Dibuja el boxplot la variable SalePrice\n",
        "import seaborn as sns\n",
        "\n",
        "sns.boxplot(data = data, x = 'SalePrice')"
      ],
      "metadata": {
        "id": "BOj4Zj-2WPEf",
        "colab": {
          "base_uri": "https://localhost:8080/",
          "height": 467
        },
        "outputId": "0b24f9d1-0713-4510-a9a8-b65709148f6b"
      },
      "execution_count": 31,
      "outputs": [
        {
          "output_type": "execute_result",
          "data": {
            "text/plain": [
              "<Axes: xlabel='SalePrice'>"
            ]
          },
          "metadata": {},
          "execution_count": 31
        },
        {
          "output_type": "display_data",
          "data": {
            "text/plain": [
              "<Figure size 640x480 with 1 Axes>"
            ],
            "image/png": "[encoded data removed]"
          },
          "metadata": {}
        }
      ]
    },
    {
      "cell_type": "code",
      "source": [
        "### Filtra los outliers de acuerdo al método indicado\n",
        "import numpy as np\n",
        "\n",
        "q1 = np.nanquantile(data['SalePrice'],0.25)\n",
        "q2 = np.nanmedian(data['SalePrice'])\n",
        "q3 = np.nanquantile(data['SalePrice'],0.75)\n",
        "print('Q1:', q1)\n",
        "print('Q2:', q2)\n",
        "print('Q3:', q3)\n",
        "\n",
        "ric = q3 - q1\n",
        "baston_superior =  q3 + 1.5*ric\n",
        "baston_inferior = q1 - 1.5*ric\n",
        "print(baston_inferior)\n",
        "print(baston_superior)"
      ],
      "metadata": {
        "id": "I_QmNwflWTeJ",
        "colab": {
          "base_uri": "https://localhost:8080/"
        },
        "outputId": "37d9731c-72d1-4587-da79-2ccd96d82ae7"
      },
      "execution_count": 32,
      "outputs": [
        {
          "output_type": "stream",
          "name": "stdout",
          "text": [
            "Q1: 129975.0\n",
            "Q2: 163000.0\n",
            "Q3: 214000.0\n",
            "3937.5\n",
            "340037.5\n"
          ]
        }
      ]
    },
    {
      "cell_type": "markdown",
      "source": [
        "Entrena un modelo de regresión lineal e imprime el R2, MSE y MAE, además de la ecuación de la recta. Comparando solamente MSE, ¿qué modelo es mejor?"
      ],
      "metadata": {
        "id": "ElwWAYLFW1Fb"
      }
    },
    {
      "cell_type": "code",
      "source": [
        "### Escribe aquí el código\n",
        "data2 = data[(data['SalePrice']>=baston_inferior) & (data['SalePrice']<=baston_superior)]\n",
        "\n",
        "columns2 = ['LotArea','BedroomAbvGr','FullBath','anios_casa']\n",
        "x2 = data2[['LotArea','BedroomAbvGr','FullBath','anios_casa']]\n",
        "y2 = data2[['SalePrice']]\n",
        "\n",
        "modelo_rlm = LinearRegression()\n",
        "modelo_rlm.fit(x2, y2)\n",
        "\n",
        "for i in range(len(modelo_rlm.coef_[0])):\n",
        "  print(columns2[i],':',modelo_rlm.coef_[0][i])\n",
        "\n",
        "preds2 = modelo_rlm.predict(data2[columns2])\n",
        "print('R2:',r2_score(y2,preds2))\n",
        "print('R2 ajustado:',1 - (1-modelo_rlm.score(x2, y2))*(len(y2)-1)/(len(y2)-x2.shape[1]-1))\n",
        "\n",
        "print('MSE:',mean_squared_error(y2,preds2))\n",
        "print('MAE:',mean_absolute_error(y2,preds2))\n",
        "\n",
        "#comparando modelos, el modelo de boxplot es mejor ya que a menos valor del MSE es mas exacto.\n",
        "#el MSE de cajas y bastones (1815219908.092481) es menor al MSE de distribución de variables (3510946187.117384)"
      ],
      "metadata": {
        "id": "pXCdvdLaWvcz",
        "colab": {
          "base_uri": "https://localhost:8080/"
        },
        "outputId": "39104f97-2009-4a1a-bef9-299f4c448c08"
      },
      "execution_count": 62,
      "outputs": [
        {
          "output_type": "stream",
          "name": "stdout",
          "text": [
            "LotArea : 1.3568439095588314\n",
            "BedroomAbvGr : 4640.201301659032\n",
            "FullBath : 40505.329439017856\n",
            "anios_casa : -1107.258697028752\n",
            "R2: 0.48220910981265663\n",
            "R2 ajustado: 0.4807233396829943\n",
            "MSE: 1815219908.092481\n",
            "MAE: 32341.28822489136\n"
          ]
        }
      ]
    },
    {
      "cell_type": "markdown",
      "source": [
        "La pareja les está preguntando, dentro de todas esas variables, cuál es la que más influye en el precio de la casa."
      ],
      "metadata": {
        "id": "su2CcBptW6jB"
      }
    },
    {
      "cell_type": "markdown",
      "source": [
        "En este caso la variable que es más influyente en el precio es el de Full Bath, siempre y cuando los valores de las otras columnas sigan siendo los mismos."
      ],
      "metadata": {
        "id": "4soF8KyGW7OD"
      }
    },
    {
      "cell_type": "markdown",
      "source": [
        "La pareja quiere saber cuánto debería pagar de más, en promedio, por tener una habitación completa más."
      ],
      "metadata": {
        "id": "SnxsU3q5W-ME"
      }
    },
    {
      "cell_type": "markdown",
      "source": [
        "La pareja debería pagar un aproximado de 5.28 aprox más para tener una habitación más."
      ],
      "metadata": {
        "id": "WZTwNiAQW-wp"
      }
    },
    {
      "cell_type": "markdown",
      "source": [
        "La pareja quiere una casa con 3 dormitorios completos, de 10 años de antiguedad, con 2 baños y de 7000 pies cuadrados de área. ¿Cuál es el precio predicho de acuerdo a estas características?"
      ],
      "metadata": {
        "id": "b6-5px_nXAbq"
      }
    },
    {
      "cell_type": "code",
      "source": [
        "## Escribe tu código aquí.\n",
        "\n",
        "requerimientos = np.array([[3,10,2,7000]])\n"
      ],
      "metadata": {
        "id": "xUNQcvOoXGFH"
      },
      "execution_count": null,
      "outputs": []
    },
    {
      "cell_type": "markdown",
      "source": [
        "# Tercera pregunta (5 puntos)"
      ],
      "metadata": {
        "id": "0YBKbacXXWbK"
      }
    },
    {
      "cell_type": "markdown",
      "source": [
        "Ahora entrenarán el modelo sin utilizar outliers. Para filtrarlos, deberán utilizar el método de las 3 sigmas (o desviaciones estándar)"
      ],
      "metadata": {
        "id": "fNm5fj6VXlUM"
      }
    },
    {
      "cell_type": "code",
      "source": [
        "### Reporta los límites superiores o inferiores de acuerdo al método indicado\n",
        "sd_saleprice = np.std(data['SalePrice'])\n",
        "media_saleprice = np.mean(data['SalePrice'])\n",
        "limite_superior = media_saleprice + 3*sd_saleprice\n",
        "limite_inferior = media_saleprice - 3*sd_saleprice\n",
        "print(limite_superior)\n",
        "print(limite_inferior)"
      ],
      "metadata": {
        "id": "vUwufeq8XwYx",
        "colab": {
          "base_uri": "https://localhost:8080/"
        },
        "outputId": "faee44bb-e105-4cec-eb56-95b8b22388ea"
      },
      "execution_count": 46,
      "outputs": [
        {
          "output_type": "stream",
          "name": "stdout",
          "text": [
            "419167.0715486135\n",
            "-57324.67976779159\n"
          ]
        }
      ]
    },
    {
      "cell_type": "code",
      "source": [
        "### Filtra los outliers de acuerdo al método indicado\n",
        "data3 = data[(data['SalePrice']>=limite_inferior) & (data['SalePrice']<=limite_superior)]\n",
        "data3.head()"
      ],
      "metadata": {
        "id": "yztvYV-oX1WT",
        "colab": {
          "base_uri": "https://localhost:8080/",
          "height": 256
        },
        "outputId": "82dc53e7-05ab-4f67-a61b-5eca95109c39"
      },
      "execution_count": 54,
      "outputs": [
        {
          "output_type": "execute_result",
          "data": {
            "text/plain": [
              "   Id  MSSubClass MSZoning  LotFrontage  LotArea Street Alley LotShape  \\\n",
              "0   1          60       RL         65.0     8450   Pave   NaN      Reg   \n",
              "1   2          20       RL         80.0     9600   Pave   NaN      Reg   \n",
              "2   3          60       RL         68.0    11250   Pave   NaN      IR1   \n",
              "3   4          70       RL         60.0     9550   Pave   NaN      IR1   \n",
              "4   5          60       RL         84.0    14260   Pave   NaN      IR1   \n",
              "\n",
              "  LandContour Utilities  ... PoolQC Fence MiscFeature MiscVal MoSold YrSold  \\\n",
              "0         Lvl    AllPub  ...    NaN   NaN         NaN       0      2   2008   \n",
              "1         Lvl    AllPub  ...    NaN   NaN         NaN       0      5   2007   \n",
              "2         Lvl    AllPub  ...    NaN   NaN         NaN       0      9   2008   \n",
              "3         Lvl    AllPub  ...    NaN   NaN         NaN       0      2   2006   \n",
              "4         Lvl    AllPub  ...    NaN   NaN         NaN       0     12   2008   \n",
              "\n",
              "  SaleType  SaleCondition  SalePrice  anios_casa  \n",
              "0       WD         Normal     208500           5  \n",
              "1       WD         Normal     181500          31  \n",
              "2       WD         Normal     223500           6  \n",
              "3       WD        Abnorml     140000          36  \n",
              "4       WD         Normal     250000           8  \n",
              "\n",
              "[5 rows x 82 columns]"
            ],
            "text/html": [
              "\n",
              "  <div id=\"df-f3fab7be-00e7-4e51-85ab-b62a9f9b74d2\" class=\"colab-df-container\">\n",
              "    <div>\n",
              "<style scoped>\n",
              "    .dataframe tbody tr th:only-of-type {\n",
              "        vertical-align: middle;\n",
              "    }\n",
              "\n",
              "    .dataframe tbody tr th {\n",
              "        vertical-align: top;\n",
              "    }\n",
              "\n",
              "    .dataframe thead th {\n",
              "        text-align: right;\n",
              "    }\n",
              "</style>\n",
              "<table border=\"1\" class=\"dataframe\">\n",
              "  <thead>\n",
              "    <tr style=\"text-align: right;\">\n",
              "      <th></th>\n",
              "      <th>Id</th>\n",
              "      <th>MSSubClass</th>\n",
              "      <th>MSZoning</th>\n",
              "      <th>LotFrontage</th>\n",
              "      <th>LotArea</th>\n",
              "      <th>Street</th>\n",
              "      <th>Alley</th>\n",
              "      <th>LotShape</th>\n",
              "      <th>LandContour</th>\n",
              "      <th>Utilities</th>\n",
              "      <th>...</th>\n",
              "      <th>PoolQC</th>\n",
              "      <th>Fence</th>\n",
              "      <th>MiscFeature</th>\n",
              "      <th>MiscVal</th>\n",
              "      <th>MoSold</th>\n",
              "      <th>YrSold</th>\n",
              "      <th>SaleType</th>\n",
              "      <th>SaleCondition</th>\n",
              "      <th>SalePrice</th>\n",
              "      <th>anios_casa</th>\n",
              "    </tr>\n",
              "  </thead>\n",
              "  <tbody>\n",
              "    <tr>\n",
              "      <th>0</th>\n",
              "      <td>1</td>\n",
              "      <td>60</td>\n",
              "      <td>RL</td>\n",
              "      <td>65.0</td>\n",
              "      <td>8450</td>\n",
              "      <td>Pave</td>\n",
              "      <td>NaN</td>\n",
              "      <td>Reg</td>\n",
              "      <td>Lvl</td>\n",
              "      <td>AllPub</td>\n",
              "      <td>...</td>\n",
              "      <td>NaN</td>\n",
              "      <td>NaN</td>\n",
              "      <td>NaN</td>\n",
              "      <td>0</td>\n",
              "      <td>2</td>\n",
              "      <td>2008</td>\n",
              "      <td>WD</td>\n",
              "      <td>Normal</td>\n",
              "      <td>208500</td>\n",
              "      <td>5</td>\n",
              "    </tr>\n",
              "    <tr>\n",
              "      <th>1</th>\n",
              "      <td>2</td>\n",
              "      <td>20</td>\n",
              "      <td>RL</td>\n",
              "      <td>80.0</td>\n",
              "      <td>9600</td>\n",
              "      <td>Pave</td>\n",
              "      <td>NaN</td>\n",
              "      <td>Reg</td>\n",
              "      <td>Lvl</td>\n",
              "      <td>AllPub</td>\n",
              "      <td>...</td>\n",
              "      <td>NaN</td>\n",
              "      <td>NaN</td>\n",
              "      <td>NaN</td>\n",
              "      <td>0</td>\n",
              "      <td>5</td>\n",
              "      <td>2007</td>\n",
              "      <td>WD</td>\n",
              "      <td>Normal</td>\n",
              "      <td>181500</td>\n",
              "      <td>31</td>\n",
              "    </tr>\n",
              "    <tr>\n",
              "      <th>2</th>\n",
              "      <td>3</td>\n",
              "      <td>60</td>\n",
              "      <td>RL</td>\n",
              "      <td>68.0</td>\n",
              "      <td>11250</td>\n",
              "      <td>Pave</td>\n",
              "      <td>NaN</td>\n",
              "      <td>IR1</td>\n",
              "      <td>Lvl</td>\n",
              "      <td>AllPub</td>\n",
              "      <td>...</td>\n",
              "      <td>NaN</td>\n",
              "      <td>NaN</td>\n",
              "      <td>NaN</td>\n",
              "      <td>0</td>\n",
              "      <td>9</td>\n",
              "      <td>2008</td>\n",
              "      <td>WD</td>\n",
              "      <td>Normal</td>\n",
              "      <td>223500</td>\n",
              "      <td>6</td>\n",
              "    </tr>\n",
              "    <tr>\n",
              "      <th>3</th>\n",
              "      <td>4</td>\n",
              "      <td>70</td>\n",
              "      <td>RL</td>\n",
              "      <td>60.0</td>\n",
              "      <td>9550</td>\n",
              "      <td>Pave</td>\n",
              "      <td>NaN</td>\n",
              "      <td>IR1</td>\n",
              "      <td>Lvl</td>\n",
              "      <td>AllPub</td>\n",
              "      <td>...</td>\n",
              "      <td>NaN</td>\n",
              "      <td>NaN</td>\n",
              "      <td>NaN</td>\n",
              "      <td>0</td>\n",
              "      <td>2</td>\n",
              "      <td>2006</td>\n",
              "      <td>WD</td>\n",
              "      <td>Abnorml</td>\n",
              "      <td>140000</td>\n",
              "      <td>36</td>\n",
              "    </tr>\n",
              "    <tr>\n",
              "      <th>4</th>\n",
              "      <td>5</td>\n",
              "      <td>60</td>\n",
              "      <td>RL</td>\n",
              "      <td>84.0</td>\n",
              "      <td>14260</td>\n",
              "      <td>Pave</td>\n",
              "      <td>NaN</td>\n",
              "      <td>IR1</td>\n",
              "      <td>Lvl</td>\n",
              "      <td>AllPub</td>\n",
              "      <td>...</td>\n",
              "      <td>NaN</td>\n",
              "      <td>NaN</td>\n",
              "      <td>NaN</td>\n",
              "      <td>0</td>\n",
              "      <td>12</td>\n",
              "      <td>2008</td>\n",
              "      <td>WD</td>\n",
              "      <td>Normal</td>\n",
              "      <td>250000</td>\n",
              "      <td>8</td>\n",
              "    </tr>\n",
              "  </tbody>\n",
              "</table>\n",
              "<p>5 rows × 82 columns</p>\n",
              "</div>\n",
              "    <div class=\"colab-df-buttons\">\n",
              "\n",
              "  <div class=\"colab-df-container\">\n",
              "    <button class=\"colab-df-convert\" onclick=\"convertToInteractive('df-f3fab7be-00e7-4e51-85ab-b62a9f9b74d2')\"\n",
              "            title=\"Convert this dataframe to an interactive table.\"\n",
              "            style=\"display:none;\">\n",
              "\n",
              "  <svg xmlns=\"http://www.w3.org/2000/svg\" height=\"24px\" viewBox=\"0 -960 960 960\">\n",
              "    <path d=\"M120-120v-720h720v720H120Zm60-500h600v-160H180v160Zm220 220h160v-160H400v160Zm0 220h160v-160H400v160ZM180-400h160v-160H180v160Zm440 0h160v-160H620v160ZM180-180h160v-160H180v160Zm440 0h160v-160H620v160Z\"/>\n",
              "  </svg>\n",
              "    </button>\n",
              "\n",
              "  <style>\n",
              "    .colab-df-container {\n",
              "      display:flex;\n",
              "      gap: 12px;\n",
              "    }\n",
              "\n",
              "    .colab-df-convert {\n",
              "      background-color: #E8F0FE;\n",
              "      border: none;\n",
              "      border-radius: 50%;\n",
              "      cursor: pointer;\n",
              "      display: none;\n",
              "      fill: #1967D2;\n",
              "      height: 32px;\n",
              "      padding: 0 0 0 0;\n",
              "      width: 32px;\n",
              "    }\n",
              "\n",
              "    .colab-df-convert:hover {\n",
              "      background-color: #E2EBFA;\n",
              "      box-shadow: 0px 1px 2px rgba(60, 64, 67, 0.3), 0px 1px 3px 1px rgba(60, 64, 67, 0.15);\n",
              "      fill: #174EA6;\n",
              "    }\n",
              "\n",
              "    .colab-df-buttons div {\n",
              "      margin-bottom: 4px;\n",
              "    }\n",
              "\n",
              "    [theme=dark] .colab-df-convert {\n",
              "      background-color: #3B4455;\n",
              "      fill: #D2E3FC;\n",
              "    }\n",
              "\n",
              "    [theme=dark] .colab-df-convert:hover {\n",
              "      background-color: #434B5C;\n",
              "      box-shadow: 0px 1px 3px 1px rgba(0, 0, 0, 0.15);\n",
              "      filter: drop-shadow(0px 1px 2px rgba(0, 0, 0, 0.3));\n",
              "      fill: #FFFFFF;\n",
              "    }\n",
              "  </style>\n",
              "\n",
              "    <script>\n",
              "      const buttonEl =\n",
              "        document.querySelector('#df-f3fab7be-00e7-4e51-85ab-b62a9f9b74d2 button.colab-df-convert');\n",
              "      buttonEl.style.display =\n",
              "        google.colab.kernel.accessAllowed ? 'block' : 'none';\n",
              "\n",
              "      async function convertToInteractive(key) {\n",
              "        const element = document.querySelector('#df-f3fab7be-00e7-4e51-85ab-b62a9f9b74d2');\n",
              "        const dataTable =\n",
              "          await google.colab.kernel.invokeFunction('convertToInteractive',\n",
              "                                                    [key], {});\n",
              "        if (!dataTable) return;\n",
              "\n",
              "        const docLinkHtml = 'Like what you see? Visit the ' +\n",
              "          '<a target=\"_blank\" href=https://colab.research.google.com/notebooks/data_table.ipynb>data table notebook</a>'\n",
              "          + ' to learn more about interactive tables.';\n",
              "        element.innerHTML = '';\n",
              "        dataTable['output_type'] = 'display_data';\n",
              "        await google.colab.output.renderOutput(dataTable, element);\n",
              "        const docLink = document.createElement('div');\n",
              "        docLink.innerHTML = docLinkHtml;\n",
              "        element.appendChild(docLink);\n",
              "      }\n",
              "    </script>\n",
              "  </div>\n",
              "\n",
              "\n",
              "<div id=\"df-14979a63-654c-4abb-b34d-f60366dc016d\">\n",
              "  <button class=\"colab-df-quickchart\" onclick=\"quickchart('df-14979a63-654c-4abb-b34d-f60366dc016d')\"\n",
              "            title=\"Suggest charts.\"\n",
              "            style=\"display:none;\">\n",
              "\n",
              "<svg xmlns=\"http://www.w3.org/2000/svg\" height=\"24px\"viewBox=\"0 0 24 24\"\n",
              "     width=\"24px\">\n",
              "    <g>\n",
              "        <path d=\"M19 3H5c-1.1 0-2 .9-2 2v14c0 1.1.9 2 2 2h14c1.1 0 2-.9 2-2V5c0-1.1-.9-2-2-2zM9 17H7v-7h2v7zm4 0h-2V7h2v10zm4 0h-2v-4h2v4z\"/>\n",
              "    </g>\n",
              "</svg>\n",
              "  </button>\n",
              "\n",
              "<style>\n",
              "  .colab-df-quickchart {\n",
              "      --bg-color: #E8F0FE;\n",
              "      --fill-color: #1967D2;\n",
              "      --hover-bg-color: #E2EBFA;\n",
              "      --hover-fill-color: #174EA6;\n",
              "      --disabled-fill-color: #AAA;\n",
              "      --disabled-bg-color: #DDD;\n",
              "  }\n",
              "\n",
              "  [theme=dark] .colab-df-quickchart {\n",
              "      --bg-color: #3B4455;\n",
              "      --fill-color: #D2E3FC;\n",
              "      --hover-bg-color: #434B5C;\n",
              "      --hover-fill-color: #FFFFFF;\n",
              "      --disabled-bg-color: #3B4455;\n",
              "      --disabled-fill-color: #666;\n",
              "  }\n",
              "\n",
              "  .colab-df-quickchart {\n",
              "    background-color: var(--bg-color);\n",
              "    border: none;\n",
              "    border-radius: 50%;\n",
              "    cursor: pointer;\n",
              "    display: none;\n",
              "    fill: var(--fill-color);\n",
              "    height: 32px;\n",
              "    padding: 0;\n",
              "    width: 32px;\n",
              "  }\n",
              "\n",
              "  .colab-df-quickchart:hover {\n",
              "    background-color: var(--hover-bg-color);\n",
              "    box-shadow: 0 1px 2px rgba(60, 64, 67, 0.3), 0 1px 3px 1px rgba(60, 64, 67, 0.15);\n",
              "    fill: var(--button-hover-fill-color);\n",
              "  }\n",
              "\n",
              "  .colab-df-quickchart-complete:disabled,\n",
              "  .colab-df-quickchart-complete:disabled:hover {\n",
              "    background-color: var(--disabled-bg-color);\n",
              "    fill: var(--disabled-fill-color);\n",
              "    box-shadow: none;\n",
              "  }\n",
              "\n",
              "  .colab-df-spinner {\n",
              "    border: 2px solid var(--fill-color);\n",
              "    border-color: transparent;\n",
              "    border-bottom-color: var(--fill-color);\n",
              "    animation:\n",
              "      spin 1s steps(1) infinite;\n",
              "  }\n",
              "\n",
              "  @keyframes spin {\n",
              "    0% {\n",
              "      border-color: transparent;\n",
              "      border-bottom-color: var(--fill-color);\n",
              "      border-left-color: var(--fill-color);\n",
              "    }\n",
              "    20% {\n",
              "      border-color: transparent;\n",
              "      border-left-color: var(--fill-color);\n",
              "      border-top-color: var(--fill-color);\n",
              "    }\n",
              "    30% {\n",
              "      border-color: transparent;\n",
              "      border-left-color: var(--fill-color);\n",
              "      border-top-color: var(--fill-color);\n",
              "      border-right-color: var(--fill-color);\n",
              "    }\n",
              "    40% {\n",
              "      border-color: transparent;\n",
              "      border-right-color: var(--fill-color);\n",
              "      border-top-color: var(--fill-color);\n",
              "    }\n",
              "    60% {\n",
              "      border-color: transparent;\n",
              "      border-right-color: var(--fill-color);\n",
              "    }\n",
              "    80% {\n",
              "      border-color: transparent;\n",
              "      border-right-color: var(--fill-color);\n",
              "      border-bottom-color: var(--fill-color);\n",
              "    }\n",
              "    90% {\n",
              "      border-color: transparent;\n",
              "      border-bottom-color: var(--fill-color);\n",
              "    }\n",
              "  }\n",
              "</style>\n",
              "\n",
              "  <script>\n",
              "    async function quickchart(key) {\n",
              "      const quickchartButtonEl =\n",
              "        document.querySelector('#' + key + ' button');\n",
              "      quickchartButtonEl.disabled = true;  // To prevent multiple clicks.\n",
              "      quickchartButtonEl.classList.add('colab-df-spinner');\n",
              "      try {\n",
              "        const charts = await google.colab.kernel.invokeFunction(\n",
              "            'suggestCharts', [key], {});\n",
              "      } catch (error) {\n",
              "        console.error('Error during call to suggestCharts:', error);\n",
              "      }\n",
              "      quickchartButtonEl.classList.remove('colab-df-spinner');\n",
              "      quickchartButtonEl.classList.add('colab-df-quickchart-complete');\n",
              "    }\n",
              "    (() => {\n",
              "      let quickchartButtonEl =\n",
              "        document.querySelector('#df-14979a63-654c-4abb-b34d-f60366dc016d button');\n",
              "      quickchartButtonEl.style.display =\n",
              "        google.colab.kernel.accessAllowed ? 'block' : 'none';\n",
              "    })();\n",
              "  </script>\n",
              "</div>\n",
              "    </div>\n",
              "  </div>\n"
            ]
          },
          "metadata": {},
          "execution_count": 54
        }
      ]
    },
    {
      "cell_type": "markdown",
      "source": [
        "Entrena un modelo de regresión lineal e imprime el R2, MSE y MAE, además de la ecuación de la recta. Comparando solamente MSE, ¿qué modelo es mejor en comparación a los otros dos entrenados?"
      ],
      "metadata": {
        "id": "j_h1S8FKX5Nq"
      }
    },
    {
      "cell_type": "code",
      "source": [
        "### Escribe aquí el código\n",
        "columns3 = ['LotArea','BedroomAbvGr','FullBath','anios_casa']\n",
        "x3 = data3[['LotArea','BedroomAbvGr','FullBath','anios_casa']]\n",
        "y3 = data3[['SalePrice']]\n",
        "\n",
        "modelo_rlm = LinearRegression()\n",
        "modelo_rlm.fit(x3, y3)\n",
        "\n",
        "for i in range(len(modelo_rlm.coef_[0])):\n",
        "  print(columns3[i],':',modelo_rlm.coef_[0][i])\n",
        "\n",
        "preds3 = modelo_rlm.predict(data3[columns3])\n",
        "print('R2:',r2_score(y3,preds3))\n",
        "print('R2 ajustado:',1 - (1-modelo_rlm.score(x3, y3))*(len(y3)-1)/(len(y3)-x3.shape[1]-1))\n",
        "\n",
        "print('MSE:',mean_squared_error(y3,preds3))\n",
        "print('MAE:',mean_absolute_error(y3,preds3))\n",
        "\n",
        "#comparando modelos, el modelo de boxplot sigue siendo el mejor ya que a menos valor del MSE es mas exacto.\n",
        "#el MSE de cajas y bastones (1815219908.092481) es menor al MSE de distribución de variables (3510946187.117384) y al MSE de 3 sigmas (2451087363.406705)"
      ],
      "metadata": {
        "id": "ofpgIA2hX9Ie",
        "colab": {
          "base_uri": "https://localhost:8080/"
        },
        "outputId": "0349e05d-26bc-4f33-f707-9b3db996512f"
      },
      "execution_count": 60,
      "outputs": [
        {
          "output_type": "stream",
          "name": "stdout",
          "text": [
            "LotArea : 1.4158472375861186\n",
            "BedroomAbvGr : 3443.7998996693095\n",
            "FullBath : 43384.45395289096\n",
            "anios_casa : -1268.4074276863885\n",
            "R2: 0.4612788376076662\n",
            "R2 ajustado: 0.45977508000154665\n",
            "MSE: 2451087363.406705\n",
            "MAE: 36575.95157997795\n"
          ]
        }
      ]
    },
    {
      "cell_type": "markdown",
      "source": [
        "La pareja les está preguntando, dentro de todas esas variables, cuál es la que más influye en el precio de la casa."
      ],
      "metadata": {
        "id": "DIk-dneIX9ec"
      }
    },
    {
      "cell_type": "markdown",
      "source": [
        "La variable que mas influye sigue siendo el campo FullBath, con un valor de -10.18 aprox."
      ],
      "metadata": {
        "id": "_P5NVKlYX_bp"
      }
    },
    {
      "cell_type": "markdown",
      "source": [
        "La pareja quiere saber cuánto debería pagar de más, en promedio, por tener una habitación completa más."
      ],
      "metadata": {
        "id": "q1RdIPuXYBM2"
      }
    },
    {
      "cell_type": "markdown",
      "source": [
        "Para tener una habitación más, la pareja debería pagar un aproximado de 3443.8 veces más."
      ],
      "metadata": {
        "id": "m7XMiSr9YFSC"
      }
    },
    {
      "cell_type": "markdown",
      "source": [
        "La pareja quiere una casa con 3 dormitorios completos, de 10 años de antiguedad, con 2 baños y de 7000 pies cuadrados de área. ¿Cuál es el precio predicho de acuerdo a estas características?"
      ],
      "metadata": {
        "id": "w8OFzgd7YGuA"
      }
    },
    {
      "cell_type": "code",
      "source": [
        "## Escribe tu código aquí.\n",
        "\n",
        "requerimientos = np.array([[3,10,2,7000]])"
      ],
      "metadata": {
        "id": "PXEqKIcHYHPr"
      },
      "execution_count": null,
      "outputs": []
    },
    {
      "cell_type": "markdown",
      "source": [
        "# Cuarta pregunta (5 puntos)\n",
        "\n",
        "La pareja, hasta el momento, está bastante contenta con sus sugerencias; sin embargo, ellos desean algo más visual para entender un poco más cómo es que se logra la predicción. En algún momento de su vida, escucharon que los modelos lineales no son tan buenos.\n",
        "\n",
        "Ustedes, como expertos analistas de datos, sugieren el uso de un modelo no lineal y escogen el árbol de decisiones.\n",
        "\n",
        "Ahora, deberán entrenar un modelo de árbol de decisión con las 4 variables con las que han estado trabajando, y considerando todos los registros (sin filtrar outliers)."
      ],
      "metadata": {
        "id": "vFNhJGMKdbHN"
      }
    },
    {
      "cell_type": "code",
      "source": [
        "# Escribe el código aquí\n",
        "from sklearn.tree import DecisionTreeRegressor, plot_tree\n",
        "\n",
        "modelo_arbol = DecisionTreeRegressor(criterion = 'absolute_error', max_depth =4)\n",
        "modelo_arbol.fit(x, y)\n",
        "preds_arbol = modelo_arbol.predict(x)\n",
        "r2_score_arbol = r2_score(y, preds_arbol)\n",
        "print(r2_score_arbol)\n",
        "preds_arbol = modelo_arbol.predict(x)\n",
        "plt.figure(figsize = (30,10))\n",
        "plot_tree(modelo_arbol, fontsize = 6, feature_names = columns)\n",
        "plt.show()"
      ],
      "metadata": {
        "id": "EYpfYZ9nhcJk",
        "colab": {
          "base_uri": "https://localhost:8080/",
          "height": 560
        },
        "outputId": "d859c719-90cc-4331-e465-c22171bede01"
      },
      "execution_count": 67,
      "outputs": [
        {
          "output_type": "stream",
          "name": "stdout",
          "text": [
            "0.5313621196586186\n"
          ]
        },
        {
          "output_type": "display_data",
          "data": {
            "text/plain": [
              "<Figure size 3000x1000 with 1 Axes>"
            ],
            "image/png": "[encoded data removed]"
          },
          "metadata": {}
        }
      ]
    },
    {
      "cell_type": "markdown",
      "source": [
        "La pareja quiere saber cuál es la variable más importante, y además, saber gráficamente cómo se llega a la predicción."
      ],
      "metadata": {
        "id": "VE1BUwlmhebS"
      }
    },
    {
      "cell_type": "code",
      "source": [
        "# Escribe el código aquí para mostrar el árbol de decisión\n",
        "for i in range(len(modelo_arbol)):\n",
        "  print(columns[i],':',modelo_arbol[0][i])"
      ],
      "metadata": {
        "id": "tC0tDoIihmEv",
        "colab": {
          "base_uri": "https://localhost:8080/",
          "height": 214
        },
        "outputId": "e1e960b4-bb39-48b8-9629-7fa851de20b2"
      },
      "execution_count": 69,
      "outputs": [
        {
          "output_type": "error",
          "ename": "TypeError",
          "evalue": "ignored",
          "traceback": [
            "\u001b[0;31m---------------------------------------------------------------------------\u001b[0m",
            "\u001b[0;31mTypeError\u001b[0m                                 Traceback (most recent call last)",
            "\u001b[0;32m<ipython-input-69-1c58b9254fa5>\u001b[0m in \u001b[0;36m<cell line: 2>\u001b[0;34m()\u001b[0m\n\u001b[1;32m      1\u001b[0m \u001b[0;31m# Escribe el código aquí para mostrar el árbol de decisión\u001b[0m\u001b[0;34m\u001b[0m\u001b[0;34m\u001b[0m\u001b[0m\n\u001b[0;32m----> 2\u001b[0;31m \u001b[0;32mfor\u001b[0m \u001b[0mi\u001b[0m \u001b[0;32min\u001b[0m \u001b[0mrange\u001b[0m\u001b[0;34m(\u001b[0m\u001b[0mlen\u001b[0m\u001b[0;34m(\u001b[0m\u001b[0mmodelo_arbol\u001b[0m\u001b[0;34m)\u001b[0m\u001b[0;34m)\u001b[0m\u001b[0;34m:\u001b[0m\u001b[0;34m\u001b[0m\u001b[0;34m\u001b[0m\u001b[0m\n\u001b[0m\u001b[1;32m      3\u001b[0m   \u001b[0mprint\u001b[0m\u001b[0;34m(\u001b[0m\u001b[0mcolumns\u001b[0m\u001b[0;34m[\u001b[0m\u001b[0mi\u001b[0m\u001b[0;34m]\u001b[0m\u001b[0;34m,\u001b[0m\u001b[0;34m':'\u001b[0m\u001b[0;34m,\u001b[0m\u001b[0mmodelo_arbol\u001b[0m\u001b[0;34m[\u001b[0m\u001b[0;36m0\u001b[0m\u001b[0;34m]\u001b[0m\u001b[0;34m[\u001b[0m\u001b[0mi\u001b[0m\u001b[0;34m]\u001b[0m\u001b[0;34m)\u001b[0m\u001b[0;34m\u001b[0m\u001b[0;34m\u001b[0m\u001b[0m\n",
            "\u001b[0;31mTypeError\u001b[0m: object of type 'DecisionTreeRegressor' has no len()"
          ]
        }
      ]
    },
    {
      "cell_type": "markdown",
      "source": [
        "Explica aquí cuál es la variables más importante"
      ],
      "metadata": {
        "id": "nX6W8Br9hqw0"
      }
    },
    {
      "cell_type": "markdown",
      "source": [
        "Imprime el R2, MSE y MAE. Comparando solamente MSE, ¿qué modelo es mejor en comparación a los otros tres entrenados?"
      ],
      "metadata": {
        "id": "uNnH3CjLhtm-"
      }
    },
    {
      "cell_type": "markdown",
      "source": [
        "Escribe tu respuesta aquí"
      ],
      "metadata": {
        "id": "Eh6Dpg0Uh0-i"
      }
    },
    {
      "cell_type": "markdown",
      "source": [
        "La pareja quiere una casa con 3 dormitorios completos, de 10 años de antiguedad, con 2 baños y de 7000 pies cuadrados de área. ¿Cuál es el precio predicho de acuerdo a estas características?"
      ],
      "metadata": {
        "id": "Ddpw-OkbiCG2"
      }
    },
    {
      "cell_type": "code",
      "source": [
        "## Escribe tu código aquí.\n",
        "\n",
        "requerimientos = np.array([[3,10,2,7000]])"
      ],
      "metadata": {
        "id": "u2MFzQm8iFzC"
      },
      "execution_count": null,
      "outputs": []
    },
    {
      "cell_type": "markdown",
      "source": [
        "La pareja ahora, por algún motivo, desea incluir más variables en el modelo. Ellos les piden agregar las siguientes variables:\n",
        "\n",
        "* Pies lineales de calle conectados a la propiedad\n",
        "* Número de chimeneas\n",
        "* Tamaño del garaje en términos de autos\n",
        "* Tamaño del garaje en términos de área\n",
        "* Total de pies de área del sótano\n",
        "\n",
        "\n",
        "Se darán cuenta que hay valores en blanco. Impútenlos usando KNN usando todos los predictores, excepto, obviamente, la variable objetivo."
      ],
      "metadata": {
        "id": "481QSaMkh_qD"
      }
    },
    {
      "cell_type": "code",
      "source": [
        "# Escribe tu código aquí"
      ],
      "metadata": {
        "colab": {
          "base_uri": "https://localhost:8080/"
        },
        "id": "3EWM6cofiQUv",
        "outputId": "f2954839-9a97-4c18-d46d-195a18a65391"
      },
      "execution_count": null,
      "outputs": [
        {
          "output_type": "execute_result",
          "data": {
            "text/plain": [
              "Id               0.000000\n",
              "MSSubClass       0.000000\n",
              "MSZoning         0.000000\n",
              "LotFrontage      0.177397\n",
              "LotArea          0.000000\n",
              "                   ...   \n",
              "YrSold           0.000000\n",
              "SaleType         0.000000\n",
              "SaleCondition    0.000000\n",
              "SalePrice        0.000000\n",
              "anios            0.000000\n",
              "Length: 82, dtype: float64"
            ]
          },
          "metadata": {},
          "execution_count": 21
        }
      ]
    },
    {
      "cell_type": "markdown",
      "source": [
        "Imprime el R2, MSE y MAE. Comparando solamente MSE, ¿qué modelo es mejor en comparación a los otros cuatro entrenados?"
      ],
      "metadata": {
        "id": "0Him595Fj5BO"
      }
    },
    {
      "cell_type": "markdown",
      "source": [
        "Escribe tu respuesta aquí"
      ],
      "metadata": {
        "id": "Hpn0SIFdj-2N"
      }
    },
    {
      "cell_type": "markdown",
      "source": [
        "Al igual que en el ejercicio anterior, la pareja desea ver el árbol de decisión. Grafícalo e indica la variables más importante"
      ],
      "metadata": {
        "id": "10mKm0XRkBTB"
      }
    },
    {
      "cell_type": "code",
      "source": [
        "# Escribe tu código aquí"
      ],
      "metadata": {
        "id": "GXYu7Qy8kI4G"
      },
      "execution_count": null,
      "outputs": []
    },
    {
      "cell_type": "markdown",
      "source": [
        "Escribe tu respuesta aquí\n"
      ],
      "metadata": {
        "id": "_UkG5qtUkLBq"
      }
    },
    {
      "cell_type": "markdown",
      "source": [
        "Ahora, es momento de podar el árbol. Haz que el árbol solamente tenga 4 niveles e imprime el R2, MSE, MAE. En términos de MSE, ¿qué modelo de todos es mejor?"
      ],
      "metadata": {
        "id": "KU_DtNjVkNl2"
      }
    },
    {
      "cell_type": "markdown",
      "source": [
        "Escribe tu respuesta aquí"
      ],
      "metadata": {
        "id": "1_2sVU9wk09R"
      }
    },
    {
      "cell_type": "code",
      "source": [
        "# Muestra el árbol con 4 niveles e indica la variable más importante"
      ],
      "metadata": {
        "id": "hCLeRm3Yk8U8"
      },
      "execution_count": null,
      "outputs": []
    },
    {
      "cell_type": "markdown",
      "source": [
        "Con este nuevo modelo, la pareja quiere una casa con 3 dormitorios completos, de 10 años de antiguedad, con 2 baños,de 7000 pies cuadrados de área, 50 pies de fachada, 1 chimenea, garaje para 2 autos y 600 pies cuadrados de garaje y 1000 pies cuadrados de sótano. ¿Cuál es el precio predicho de acuerdo a estas características?\n",
        "\n"
      ],
      "metadata": {
        "id": "A2zGjo9Flipj"
      }
    },
    {
      "cell_type": "code",
      "source": [
        "# Escribe tu código aquí"
      ],
      "metadata": {
        "id": "YeLpQaGGmVJi"
      },
      "execution_count": null,
      "outputs": []
    },
    {
      "cell_type": "markdown",
      "source": [
        "## La parte más importante\n",
        "\n",
        "Hasta acá han escrito algunas líneas de código y han hecho algunas interpretaciones. En esta sección, lo que espero es que, en al menos 4 párrafos, puedan explicar el comportamiento de las predicciones de acuerdo a cada uno de los modelos utilizados, el impacto que tiene en cada uno de los algoritmos la inclusión de nuevas variables y la exclusión de outliers, e intuitivamente, por qué sucede esto.\n",
        "\n",
        "En esta sección espero que, de manera concienzuda y reflexiva, puedan pensar críticamente y brindar una opinión fundamentada y sobre todo, basada en referencias y datos, acerca del problema al que se enfrenta la pareja y los métodos que están usando para resolverlos. Espero que la reflexión esté acorde a un nivel universitario combinado con los años de experiencia laboral que pudieran tener. En conclusión, espero que me sorprendan gratamente en esta sección.\n",
        "\n",
        "Si han tenido dificultades en el código, pero hacen una gran reflexión, esta sección los ayudará a mejorar su nota.\n",
        "\n",
        "¡Los leo!"
      ],
      "metadata": {
        "id": "MdO1MZt8qVw6"
      }
    },
    {
      "cell_type": "markdown",
      "source": [
        "El modelo de distribución de variables es el más sencillo de utilizar debido a que no existe un filtro para poder realizar el análisis de regresión lineal, sin embargo, de acuerdo al MSE, es el modelo menos preciso.\n",
        "\n",
        "El modelo de cajas y bastones, o boxplot, es un modelo que permite retirar los outliers o valores mas alejados de lo estándar para poder obtener una predicción más exacta del entrenamiento, y llega a ser así, ya que por el valor de MSE, podemos intuir que es más exacta que el modelo de distribución de variables, y luego veremos que es más preciso que el siguiente modelo.\n",
        "\n",
        "El modelo de las 3 sigmas es una formula que utiliza el promedio y la media como filtros para discernir de ciertos valores para lograr una mayor precisión, y llega a ser más preciso que el modelo de distribución de variables, sin embargo no llega a ser tan preciso como el modelo boxplot, siempre analizando el valor de MSE."
      ],
      "metadata": {
        "id": "K-dHj1WvqY_3"
      }
    },
    {
      "cell_type": "markdown",
      "source": [
        "# Bonus (2 puntos)"
      ],
      "metadata": {
        "id": "BricM9culX0P"
      }
    },
    {
      "cell_type": "markdown",
      "source": [
        "En base a lo anterior, ¿podar el árbol ayuda al modelo, en términos de MSE?"
      ],
      "metadata": {
        "id": "NlCgbVRplZnv"
      }
    },
    {
      "cell_type": "markdown",
      "source": [
        "Escribe tu respuesta aquí"
      ],
      "metadata": {
        "id": "V61KBo4NmmBe"
      }
    },
    {
      "cell_type": "markdown",
      "source": [
        "Entrena un árbol de decisión con las 4 variables iniciales, pero eliminando outliers. Reporta el MSE y MAE. En comparación con el árbol entrenado sin outliers, ¿hay mejora en términos de MSE?"
      ],
      "metadata": {
        "id": "rpsrj9FXmoEc"
      }
    },
    {
      "cell_type": "code",
      "source": [
        "# Escribe tu código aquí."
      ],
      "metadata": {
        "id": "0W22RxDZoRUU"
      },
      "execution_count": null,
      "outputs": []
    },
    {
      "cell_type": "markdown",
      "source": [
        "Escribe tu respuesta aquí"
      ],
      "metadata": {
        "id": "nVq-ZkkroVMs"
      }
    }
  ]
}